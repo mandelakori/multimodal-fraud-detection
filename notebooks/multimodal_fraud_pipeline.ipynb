{
 "cells": [
  {
   "cell_type": "markdown",
   "id": "483dadc2",
   "metadata": {},
   "source": [
    "# 1. Load libraries"
   ]
  },
  {
   "cell_type": "code",
   "execution_count": null,
   "id": "0effb2b9",
   "metadata": {
    "vscode": {
     "languageId": "plaintext"
    }
   },
   "outputs": [],
   "source": [
    "import os\n",
    "import pandas as pd\n",
    "import numpy as np\n",
    "from src.feature_extraction import build_feature_vector\n",
    "from sklearn.model_selection import train_test_split\n",
    "from sklearn.ensemble import RandomForestClassifier\n",
    "from sklearn.metrics import classification_report, confusion_matrix\n",
    "import joblib\n",
    "import matplotlib.pyplot as plt\n",
    "import seaborn as sns"
   ]
  },
  {
   "cell_type": "markdown",
   "id": "20c9db40",
   "metadata": {},
   "source": [
    "# 2. Build / Load Multimodal Dataset"
   ]
  },
  {
   "cell_type": "code",
   "execution_count": null,
   "id": "9d0ba1be",
   "metadata": {
    "vscode": {
     "languageId": "plaintext"
    }
   },
   "outputs": [],
   "source": [
    "# from src.multimodal_dataset_builder import create_dataset  # if you had a function    \n",
    "\n",
    "dataset_csv = \"multimodal_dataset.csv\"\n",
    "if os.path.exists(dataset_csv):\n",
    "    df = pd.read_csv(dataset_csv)\n",
    "else:\n",
    "    print(\"Dataset CSV not found. Run multimodal_dataset_builder.py first.\")\n",
    "\n",
    "print(df.head())\n",
    "print(f\"Dataset size: {len(df)} rows\")"
   ]
  },
  {
   "cell_type": "markdown",
   "id": "8a05be7d",
   "metadata": {},
   "source": [
    "# 3. Visualize Feature Distributions"
   ]
  },
  {
   "cell_type": "code",
   "execution_count": null,
   "id": "ed2197c8",
   "metadata": {
    "vscode": {
     "languageId": "plaintext"
    }
   },
   "outputs": [],
   "source": [
    "features = [c for c in df.columns if c.startswith(\"feature_\")]\n",
    "\n",
    "plt.figure(figsize=(12,6))\n",
    "for i, f in enumerate(features, 1):\n",
    "    plt.subplot(2, 3, i)\n",
    "    sns.histplot(df, x=f, hue=\"label\", kde=True)\n",
    "    plt.title(f)\n",
    "plt.tight_layout()\n",
    "plt.show()"
   ]
  },
  {
   "cell_type": "markdown",
   "id": "6a993a05",
   "metadata": {},
   "source": [
    "# 4. Prepare Data for Training"
   ]
  },
  {
   "cell_type": "code",
   "execution_count": null,
   "id": "cb0278a5",
   "metadata": {
    "vscode": {
     "languageId": "plaintext"
    }
   },
   "outputs": [],
   "source": [
    "X = df[features].values\n",
    "y = df[\"label\"].map({\"normal\": 0, \"fraud\": 1}).values\n",
    "\n",
    "X_train, X_test, y_train, y_test = train_test_split(\n",
    "    X, y, test_size=0.2, random_state=42\n",
    ")\n"
   ]
  },
  {
   "cell_type": "markdown",
   "id": "1611a9f0",
   "metadata": {},
   "source": [
    "# 5. Train RandomForest Classifier"
   ]
  },
  {
   "cell_type": "code",
   "execution_count": null,
   "id": "25972f16",
   "metadata": {
    "vscode": {
     "languageId": "plaintext"
    }
   },
   "outputs": [],
   "source": [
    "clf = RandomForestClassifier(n_estimators=200, random_state=42)\n",
    "clf.fit(X_train, y_train)\n",
    "\n",
    "# Save the trained model\n",
    "os.makedirs(\"models\", exist_ok=True)\n",
    "joblib.dump(clf, \"models/multimodal_model.pkl\")\n",
    "print(\"Saved trained multimodal model to models/multimodal_model.pkl\")\n"
   ]
  },
  {
   "cell_type": "markdown",
   "id": "1af9c5e4",
   "metadata": {},
   "source": [
    "# 6. Evaluate Model"
   ]
  },
  {
   "cell_type": "code",
   "execution_count": null,
   "id": "ca72ee7d",
   "metadata": {
    "vscode": {
     "languageId": "plaintext"
    }
   },
   "outputs": [],
   "source": [
    "\n",
    "y_pred = clf.predict(X_test)\n",
    "y_prob = clf.predict_proba(X_test)[:, 1] * 100  # % probability of fraud\n",
    "\n",
    "print(\"Classification Report:\")\n",
    "print(classification_report(y_test, y_pred))\n",
    "print(\"Confusion Matrix:\")\n",
    "print(confusion_matrix(y_test, y_pred))\n",
    "\n",
    "# Display first 5 sample probabilities\n",
    "for i in range(5):\n",
    "    print(f\"Sample {i+1}: Fraud probability = {y_prob[i]:.2f}%, Label = {y_test[i]}\")"
   ]
  },
  {
   "cell_type": "markdown",
   "id": "3e804a3f",
   "metadata": {},
   "source": [
    "# 7. Inference on New Audio"
   ]
  },
  {
   "cell_type": "code",
   "execution_count": null,
   "id": "2273d2d2",
   "metadata": {
    "vscode": {
     "languageId": "plaintext"
    }
   },
   "outputs": [],
   "source": [
    "\n",
    "sample_audio = \"data/audio/fraud/sample1.wav\"  # replace with actual path\n",
    "if os.path.exists(sample_audio):\n",
    "    feature_vec = build_feature_vector(sample_audio).reshape(1, -1)\n",
    "    prob_fraud = clf.predict_proba(feature_vec)[0][1] * 100\n",
    "    prob_normal = 100 - prob_fraud\n",
    "    print(f\"Sample audio: {sample_audio}\")\n",
    "    print(f\"Fraud: {prob_fraud:.2f}%, Normal: {prob_normal:.2f}%\")\n",
    "else:\n",
    "    print(f\"Sample audio not found: {sample_audio}\")"
   ]
  }
 ],
 "metadata": {
  "language_info": {
   "name": "python"
  }
 },
 "nbformat": 4,
 "nbformat_minor": 5
}
